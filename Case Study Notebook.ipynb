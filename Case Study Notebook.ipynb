{
 "cells": [
  {
   "cell_type": "code",
   "execution_count": 623,
   "id": "marked-official",
   "metadata": {
    "scrolled": false
   },
   "outputs": [],
   "source": [
    "#import libraries\n",
    "\n",
    "#data manipulation\n",
    "import numpy as np \n",
    "import pandas as pd\n",
    "from datetime import timedelta, datetime\n",
    "\n",
    "#visualization\n",
    "import matplotlib.pyplot as plt\n",
    "import seaborn as sns\n",
    "\n",
    "#stats\n",
    "from scipy import stats\n",
    "from statsmodels.stats import weightstats as stests\n",
    "import statsmodels.api as sm\n",
    "\n",
    "#modeling\n",
    "from sklearn.linear_model import LinearRegression\n",
    "from sklearn.model_selection import train_test_split\n",
    "from sklearn.metrics import r2_score\n",
    "from sklearn.preprocessing import MinMaxScaler\n"
   ]
  },
  {
   "cell_type": "code",
   "execution_count": 719,
   "id": "aggregate-jurisdiction",
   "metadata": {},
   "outputs": [],
   "source": [
    "#import data\n",
    "sb = pd.read_csv('Business case Sportsbook_data.csv', sep = ',')"
   ]
  },
  {
   "cell_type": "code",
   "execution_count": 720,
   "id": "removable-library",
   "metadata": {},
   "outputs": [],
   "source": [
    "#converting date to datetime format \n",
    "sb['date'] = sb['date'].apply(lambda x: pd.to_datetime(x))"
   ]
  },
  {
   "cell_type": "markdown",
   "id": "cooperative-trauma",
   "metadata": {},
   "source": [
    "### Exploratory Data Analysis"
   ]
  },
  {
   "cell_type": "code",
   "execution_count": 755,
   "id": "nutritional-freight",
   "metadata": {},
   "outputs": [
    {
     "data": {
      "text/plain": [
       "5.0     3367\n",
       "10.0    2793\n",
       "20.0    2293\n",
       "50.0    1392\n",
       "Name: bonus awarded, dtype: int64"
      ]
     },
     "execution_count": 755,
     "metadata": {},
     "output_type": "execute_result"
    }
   ],
   "source": [
    "sb['bonus awarded'].value_counts()"
   ]
  },
  {
   "cell_type": "code",
   "execution_count": 667,
   "id": "statewide-penalty",
   "metadata": {},
   "outputs": [
    {
     "data": {
      "text/plain": [
       "689"
      ]
     },
     "execution_count": 667,
     "metadata": {},
     "output_type": "execute_result"
    }
   ],
   "source": [
    "#checking number of unique playerids \n",
    "sb['playerid'].nunique()"
   ]
  },
  {
   "cell_type": "code",
   "execution_count": 715,
   "id": "entire-jumping",
   "metadata": {},
   "outputs": [
    {
     "data": {
      "image/png": "[encoded data removed]",
      "text/plain": [
       "<Figure size 504x288 with 1 Axes>"
      ]
     },
     "metadata": {
      "needs_background": "light"
     },
     "output_type": "display_data"
    }
   ],
   "source": [
    "#looking at counts of playerids in each group\n",
    "tgc = sb['Target/CG'].value_counts().to_frame()\n",
    "plt.figure(figsize = (7,4))\n",
    "_ = plt.bar(tgc.index, tgc['Target/CG'])\n",
    "plt.title('Target vs Control Size')\n",
    "\n",
    "for x,y in zip(tgc.index, tgc['Target/CG']):\n",
    "\n",
    "    label = \"{:.0f}\".format(y)\n",
    "\n",
    "    plt.annotate(label, # this is the text\n",
    "                 (x,y), # this is the point to label\n",
    "                 textcoords=\"offset points\", # how to position the text\n",
    "                 xytext=(0,10), # distance from text to points (x,y)\n",
    "                 ha='center') # horizontal alignment can be left, right or center\n",
    "    \n",
    "plt.ylabel('Count')\n",
    "plt.ylim(0,12000)\n",
    "plt.show()"
   ]
  },
  {
   "cell_type": "markdown",
   "id": "coordinated-birmingham",
   "metadata": {},
   "source": [
    "#### *Observation: Target by Subgroup*\n",
    "\n",
    "We notice that Target rates are relatively constant around the ~0.80 mark for each customer subgroup, although VIP group is noticeably Targeted at 88% rate"
   ]
  },
  {
   "cell_type": "code",
   "execution_count": 717,
   "id": "sound-lebanon",
   "metadata": {},
   "outputs": [
    {
     "data": {
      "image/png": "[encoded data removed]",
      "text/plain": [
       "<Figure size 504x288 with 1 Axes>"
      ]
     },
     "metadata": {
      "needs_background": "light"
     },
     "output_type": "display_data"
    }
   ],
   "source": [
    "sb_tgt_ctrl = sb.groupby(['last_12months_segment','Target/CG']).count().unstack()['log_handle'].reset_index()  #.assign(new_col_target = lambda x: x['Target'] / (x['Target'] + x['Control']))  \n",
    "sb_tgt_ctrl['perc_tgt'] = sb_tgt_ctrl['Target'] / (sb_tgt_ctrl['Target'] +\n",
    "                                                   sb_tgt_ctrl['Control Group'])\n",
    "sb_tgt_ctrl\n",
    "\n",
    "#visualizing Target rates by customer subgroup\n",
    "\n",
    "plt.figure(figsize = (7,4))\n",
    "_ = plt.bar(sb_tgt_ctrl['last_12months_segment'], sb_tgt_ctrl['perc_tgt'])\n",
    "plt.title('Percent Targeted by Customer Subgroup')\n",
    "plt.ylabel('Percents')\n",
    "for x,y in zip(sb_tgt_ctrl['last_12months_segment'], sb_tgt_ctrl['perc_tgt']):\n",
    "\n",
    "    label = \"{:.2f}\".format(y)\n",
    "\n",
    "    plt.annotate(label, # this is the text\n",
    "                 (x,y), # this is the point to label\n",
    "                 textcoords=\"offset points\", # how to position the text\n",
    "                 xytext=(0,10), # distance from text to points (x,y)\n",
    "                 ha='center') # horizontal alignment can be left, right or center\n",
    "plt.ylim(0,1)\n",
    "plt.show()"
   ]
  },
  {
   "cell_type": "code",
   "execution_count": 478,
   "id": "rolled-scotland",
   "metadata": {},
   "outputs": [
    {
     "data": {
      "text/html": [
       "<div>\n",
       "<style scoped>\n",
       "    .dataframe tbody tr th:only-of-type {\n",
       "        vertical-align: middle;\n",
       "    }\n",
       "\n",
       "    .dataframe tbody tr th {\n",
       "        vertical-align: top;\n",
       "    }\n",
       "\n",
       "    .dataframe thead th {\n",
       "        text-align: right;\n",
       "    }\n",
       "</style>\n",
       "<table border=\"1\" class=\"dataframe\">\n",
       "  <thead>\n",
       "    <tr style=\"text-align: right;\">\n",
       "      <th></th>\n",
       "      <th>playerid</th>\n",
       "      <th>last_12months_segment</th>\n",
       "    </tr>\n",
       "  </thead>\n",
       "  <tbody>\n",
       "  </tbody>\n",
       "</table>\n",
       "</div>"
      ],
      "text/plain": [
       "Empty DataFrame\n",
       "Columns: [playerid, last_12months_segment]\n",
       "Index: []"
      ]
     },
     "execution_count": 478,
     "metadata": {},
     "output_type": "execute_result"
    }
   ],
   "source": [
    "#looking at whether any players changed levels during the marketing campaign to see if there are any discernible \n",
    "#differences in player segment mobility by Target vs Control\n",
    "playerid_mobility_df = sb.groupby('playerid')[['last_12months_segment']].nunique().reset_index()\n",
    "playerid_mobility_df.loc[playerid_mobility_df['last_12months_segment'] > 1]\n"
   ]
  },
  {
   "cell_type": "markdown",
   "id": "clear-stuart",
   "metadata": {},
   "source": [
    "#### *Observation: Handle*\n",
    "\n",
    "For purposes of this analysis we choose to focus on the handle variable given higher handle should, all else equal, result in higher profit for the business that is linearly proportional in the long run to the vig baked into the Sportsbook odds.\n",
    "\n",
    "We observe high variability in the handle variable and therefore decide to take the log of the variable to reduce some of this variability and get higher linearity between our y's and x's for our regression analysis.\n"
   ]
  },
  {
   "cell_type": "code",
   "execution_count": 695,
   "id": "quarterly-database",
   "metadata": {},
   "outputs": [
    {
     "data": {
      "image/png": "[encoded data removed]",
      "text/plain": [
       "<Figure size 504x288 with 1 Axes>"
      ]
     },
     "metadata": {
      "needs_background": "light"
     },
     "output_type": "display_data"
    }
   ],
   "source": [
    "#variability in handle variable - time series view \n",
    "from datetime import timedelta\n",
    "\n",
    "sb_grouped_date = sb.groupby('date')[['handle']].mean().reset_index()\n",
    "\n",
    "plt.figure(figsize = (7,4))\n",
    "_ = plt.plot(sb_grouped_date['date'], sb_grouped_date['handle'])\n",
    "plt.title('Handle variability over time')\n",
    "plt.ylabel('Handle')\n",
    "plt.show()"
   ]
  },
  {
   "cell_type": "code",
   "execution_count": 721,
   "id": "first-judgment",
   "metadata": {},
   "outputs": [],
   "source": [
    "#creating a log handle variable\n",
    "sb['log_handle'] = np.where(sb['handle'] < 1, 1, sb['handle'])\n",
    "sb['log_handle'] = np.log(sb['log_handle'])"
   ]
  },
  {
   "cell_type": "code",
   "execution_count": 738,
   "id": "defined-software",
   "metadata": {},
   "outputs": [
    {
     "data": {
      "image/png": "[encoded data removed]",
      "text/plain": [
       "<Figure size 504x288 with 1 Axes>"
      ]
     },
     "metadata": {
      "needs_background": "light"
     },
     "output_type": "display_data"
    }
   ],
   "source": [
    "#visualizing counts of each segment not grouped by playerid\n",
    "segment_counts = sb['last_12months_segment'].value_counts().to_frame()\n",
    "\n",
    "plt.figure(figsize = (7,4))\n",
    "_ = plt.bar(segment_counts.index, segment_counts['last_12months_segment'])\n",
    "plt.title('Customer Segment Counts not Grouped by Playerid')\n",
    "\n",
    "for x,y in zip(segment_counts.index, segment_counts['last_12months_segment']):\n",
    "\n",
    "    label = \"{:.0f}\".format(y)\n",
    "\n",
    "    plt.annotate(label, # this is the text\n",
    "                 (x,y), # this is the point to label\n",
    "                 textcoords=\"offset points\", # how to position the text\n",
    "                 xytext=(0,10), # distance from text to points (x,y)\n",
    "                 ha='center') # horizontal alignment can be left, right or center\n",
    "    \n",
    "plt.ylabel('Count')\n",
    "plt.ylim(0,5000)\n",
    "plt.show()"
   ]
  },
  {
   "cell_type": "markdown",
   "id": "recorded-chorus",
   "metadata": {},
   "source": [
    "### Checking for Missing Values\n",
    "\n",
    "We notice bonus awarded is the only variable with missing values in our data and that these occur only for the Control group which by definition has bonus awarded of zero. We therefore impute these missing values to zero"
   ]
  },
  {
   "cell_type": "code",
   "execution_count": 583,
   "id": "productive-paris",
   "metadata": {
    "scrolled": true
   },
   "outputs": [
    {
     "data": {
      "text/plain": [
       "playerid                    0\n",
       "date                        0\n",
       "handle                      0\n",
       "ggr                         0\n",
       "last_12months_segment       0\n",
       "Target/CG                   0\n",
       "bonus awarded            2336\n",
       "log_handle                  0\n",
       "dtype: int64"
      ]
     },
     "execution_count": 583,
     "metadata": {},
     "output_type": "execute_result"
    }
   ],
   "source": [
    "sb.isna().sum()"
   ]
  },
  {
   "cell_type": "code",
   "execution_count": 585,
   "id": "ambient-terrorism",
   "metadata": {},
   "outputs": [
    {
     "data": {
      "text/html": [
       "<div>\n",
       "<style scoped>\n",
       "    .dataframe tbody tr th:only-of-type {\n",
       "        vertical-align: middle;\n",
       "    }\n",
       "\n",
       "    .dataframe tbody tr th {\n",
       "        vertical-align: top;\n",
       "    }\n",
       "\n",
       "    .dataframe thead th {\n",
       "        text-align: right;\n",
       "    }\n",
       "</style>\n",
       "<table border=\"1\" class=\"dataframe\">\n",
       "  <thead>\n",
       "    <tr style=\"text-align: right;\">\n",
       "      <th></th>\n",
       "      <th>bonus awarded</th>\n",
       "    </tr>\n",
       "    <tr>\n",
       "      <th>Target/CG</th>\n",
       "      <th></th>\n",
       "    </tr>\n",
       "  </thead>\n",
       "  <tbody>\n",
       "    <tr>\n",
       "      <th>Target</th>\n",
       "      <td>0</td>\n",
       "    </tr>\n",
       "    <tr>\n",
       "      <th>Control Group</th>\n",
       "      <td>2336</td>\n",
       "    </tr>\n",
       "  </tbody>\n",
       "</table>\n",
       "</div>"
      ],
      "text/plain": [
       "               bonus awarded\n",
       "Target/CG                   \n",
       "Target                     0\n",
       "Control Group           2336"
      ]
     },
     "execution_count": 585,
     "metadata": {},
     "output_type": "execute_result"
    }
   ],
   "source": [
    "#seeing all bonus awarded missing values occur in the Control Group\n",
    "sb.set_index('Target/CG')[['bonus awarded']].isna().sum(level=0)"
   ]
  },
  {
   "cell_type": "code",
   "execution_count": 586,
   "id": "soviet-nursery",
   "metadata": {},
   "outputs": [],
   "source": [
    "#imputing missing bonus awarded to zero\n",
    "sb['bonus awarded'] = sb['bonus awarded'].fillna(0)"
   ]
  },
  {
   "attachments": {},
   "cell_type": "markdown",
   "id": "arctic-yeast",
   "metadata": {},
   "source": [
    "### Checking for Outliers\n",
    "\n",
    "We identify ten outlier values in the log transformed handle variable that are removed to preempt any potential skew these outliers may introduce in our linear regression models."
   ]
  },
  {
   "cell_type": "code",
   "execution_count": 734,
   "id": "exact-default",
   "metadata": {},
   "outputs": [],
   "source": [
    "#looking at groupby on playerid to check for any outliers\n",
    "\n",
    "grouped_outliers = sb.groupby('playerid')[['log_handle']].mean()\n",
    "q1, median, q3 = grouped_outliers.log_handle.quantile([0.25,0.5,0.75])\n",
    "iqr = q3 - q1\n",
    "min_outlier = q1 - 1.5 * iqr\n",
    "max_outlier = q3 + 1.5 * iqr\n",
    "outliers = grouped_outliers.loc[grouped_outliers['log_handle'] > max_outlier]\n",
    "outlier_playerids = list(outliers.index)"
   ]
  },
  {
   "cell_type": "code",
   "execution_count": 726,
   "id": "global-train",
   "metadata": {},
   "outputs": [
    {
     "data": {
      "text/html": [
       "<div>\n",
       "<style scoped>\n",
       "    .dataframe tbody tr th:only-of-type {\n",
       "        vertical-align: middle;\n",
       "    }\n",
       "\n",
       "    .dataframe tbody tr th {\n",
       "        vertical-align: top;\n",
       "    }\n",
       "\n",
       "    .dataframe thead th {\n",
       "        text-align: right;\n",
       "    }\n",
       "</style>\n",
       "<table border=\"1\" class=\"dataframe\">\n",
       "  <thead>\n",
       "    <tr style=\"text-align: right;\">\n",
       "      <th></th>\n",
       "      <th>log_handle</th>\n",
       "    </tr>\n",
       "    <tr>\n",
       "      <th>playerid</th>\n",
       "      <th></th>\n",
       "    </tr>\n",
       "  </thead>\n",
       "  <tbody>\n",
       "    <tr>\n",
       "      <th>1135249</th>\n",
       "      <td>9.075532</td>\n",
       "    </tr>\n",
       "    <tr>\n",
       "      <th>1204930</th>\n",
       "      <td>9.557541</td>\n",
       "    </tr>\n",
       "    <tr>\n",
       "      <th>1230877</th>\n",
       "      <td>11.124883</td>\n",
       "    </tr>\n",
       "    <tr>\n",
       "      <th>1276799</th>\n",
       "      <td>11.081417</td>\n",
       "    </tr>\n",
       "    <tr>\n",
       "      <th>1285934</th>\n",
       "      <td>9.545383</td>\n",
       "    </tr>\n",
       "    <tr>\n",
       "      <th>1291803</th>\n",
       "      <td>8.731829</td>\n",
       "    </tr>\n",
       "    <tr>\n",
       "      <th>1292808</th>\n",
       "      <td>9.988388</td>\n",
       "    </tr>\n",
       "    <tr>\n",
       "      <th>1293083</th>\n",
       "      <td>9.132368</td>\n",
       "    </tr>\n",
       "    <tr>\n",
       "      <th>1300957</th>\n",
       "      <td>11.672021</td>\n",
       "    </tr>\n",
       "    <tr>\n",
       "      <th>1388312</th>\n",
       "      <td>8.965079</td>\n",
       "    </tr>\n",
       "  </tbody>\n",
       "</table>\n",
       "</div>"
      ],
      "text/plain": [
       "          log_handle\n",
       "playerid            \n",
       "1135249     9.075532\n",
       "1204930     9.557541\n",
       "1230877    11.124883\n",
       "1276799    11.081417\n",
       "1285934     9.545383\n",
       "1291803     8.731829\n",
       "1292808     9.988388\n",
       "1293083     9.132368\n",
       "1300957    11.672021\n",
       "1388312     8.965079"
      ]
     },
     "execution_count": 726,
     "metadata": {},
     "output_type": "execute_result"
    }
   ],
   "source": [
    "outliers"
   ]
  },
  {
   "cell_type": "code",
   "execution_count": 733,
   "id": "upset-machinery",
   "metadata": {},
   "outputs": [
    {
     "data": {
      "text/plain": [
       "Text(0.5, 1.0, 'Distribution of Mean Log_handle by Playerid')"
      ]
     },
     "execution_count": 733,
     "metadata": {},
     "output_type": "execute_result"
    },
    {
     "data": {
      "image/png": "[encoded data removed]",
      "text/plain": [
       "<Figure size 432x288 with 1 Axes>"
      ]
     },
     "metadata": {
      "needs_background": "light"
     },
     "output_type": "display_data"
    }
   ],
   "source": [
    "#visualizing outliers\n",
    "plt.figure(figsize = (7,4))\n",
    "plt.hist(grouped_outliers, bins = list(np.arange(0,14,0.5)))\n",
    "plt.xlabel('log_handle')\n",
    "plt.ylabel('Count')\n",
    "plt.title('Distribution of Mean Log_handle by Playerid')"
   ]
  },
  {
   "cell_type": "code",
   "execution_count": 604,
   "id": "endangered-running",
   "metadata": {},
   "outputs": [
    {
     "data": {
      "text/plain": [
       "(12114, 8)"
      ]
     },
     "execution_count": 604,
     "metadata": {},
     "output_type": "execute_result"
    }
   ],
   "source": [
    "#given these outliers represent ~1% of our playerdata, we choose to remove\n",
    "#these from the dataset in order to limit potential detrimental \n",
    "#impact on our regressions\n",
    "sb = sb.loc[~sb['playerid'].isin(outlier_playerids)]"
   ]
  },
  {
   "cell_type": "code",
   "execution_count": 716,
   "id": "mighty-jewel",
   "metadata": {},
   "outputs": [
    {
     "data": {
      "image/png": "[encoded data removed]",
      "text/plain": [
       "<Figure size 504x288 with 1 Axes>"
      ]
     },
     "metadata": {
      "needs_background": "light"
     },
     "output_type": "display_data"
    }
   ],
   "source": [
    "#looking at mean group differences after outlier treatment\n",
    "\n",
    "sb.groupby('Target/CG')[['handle']].mean().reset_index()\n",
    "plt.figure(figsize = (7,4))\n",
    "_ = plt.bar(['Control','Target'],[1156,1565])\n",
    "plt.title('Mean Handle in Target vs Control Grouped by Playerid')\n",
    "plt.ylabel('Mean Handle')\n",
    "for x,y in zip(['Control','Target'],[1156,1565]):\n",
    "\n",
    "    label = \"{:.0f}\".format(y)\n",
    "\n",
    "    plt.annotate(label, # this is the text\n",
    "                 (x,y), # this is the point to label\n",
    "                 textcoords=\"offset points\", # how to position the text\n",
    "                 xytext=(0,10), # distance from text to points (x,y)\n",
    "                 ha='center') # horizontal alignment can be left, right or center\n",
    "plt.ylim(0,1800)\n",
    "plt.show()"
   ]
  },
  {
   "cell_type": "markdown",
   "id": "balanced-diversity",
   "metadata": {},
   "source": [
    "### Preparing Data for Simple Linear Regression\n",
    "\n",
    "#### *Observation - Bonus awarded:*\n",
    "\n",
    "We notice a strong positive linear relationship between bonus awarded and handle from the below correlation heatmap. We would therefore expect bonus awarded to be a somewhat strong predictor in our linear regression\n",
    "later on. Target vs Control have somewhat weak positive and negative correlation values with handle respectively, which may indicate these will be somewhat significant predictors later on"
   ]
  },
  {
   "cell_type": "code",
   "execution_count": 718,
   "id": "solar-disclosure",
   "metadata": {
    "scrolled": false
   },
   "outputs": [
    {
     "data": {
      "text/plain": [
       "Text(0.5, 1.0, 'Numeric Variables Correlation Heatmap')"
      ]
     },
     "execution_count": 718,
     "metadata": {},
     "output_type": "execute_result"
    },
    {
     "data": {
      "image/png": "[encoded data removed]",
      "text/plain": [
       "<Figure size 432x288 with 2 Axes>"
      ]
     },
     "metadata": {
      "needs_background": "light"
     },
     "output_type": "display_data"
    }
   ],
   "source": [
    "#looking at simple linear regression analysis grouping by playerid\n",
    "#preparing data\n",
    "\n",
    "#not setting drop_first = True to have greater control over which segments\n",
    "#to drop\n",
    "sb2 = pd.get_dummies(sb)\n",
    "\n",
    "#creating correlation heatmap \n",
    "ax = plt.axes()\n",
    "correlation = sb2.select_dtypes(['int64', 'float64','uint8']).corr()\n",
    "sns.heatmap(correlation, square = True, cmap = 'Blues', ax = ax)\n",
    "plt.title('Numeric Variables Correlation Heatmap')"
   ]
  },
  {
   "cell_type": "code",
   "execution_count": 617,
   "id": "administrative-samoa",
   "metadata": {},
   "outputs": [],
   "source": [
    "#dropping one of each dummy variable for our linear models\n",
    "sb2.drop(['last_12months_segment_no bet','Target/CG_Control Group'], axis = 1, inplace = True)\n",
    "\n",
    "sb2_grouped = sb2.groupby('playerid')[['log_handle','bonus awarded','last_12months_segment_low',\n",
    "                                     'last_12months_segment_medium','last_12months_segment_vip',\n",
    "                                     'last_12months_segment_regnodep',\n",
    "                                     'last_12months_segment_high','Target/CG_Target']].mean().reset_index()\n",
    "sb2_grouped.drop(['playerid'], axis = 1, inplace = True)"
   ]
  },
  {
   "cell_type": "code",
   "execution_count": null,
   "id": "martial-principal",
   "metadata": {},
   "outputs": [],
   "source": [
    "#creating our x's and y's\n",
    "X = sb2_grouped.loc[:, sb2_grouped.columns != 'log_handle']\n",
    "y = sb2_grouped['log_handle']"
   ]
  },
  {
   "cell_type": "code",
   "execution_count": 625,
   "id": "historic-origin",
   "metadata": {},
   "outputs": [
    {
     "data": {
      "text/html": [
       "<table class=\"simpletable\">\n",
       "<caption>OLS Regression Results</caption>\n",
       "<tr>\n",
       "  <th>Dep. Variable:</th>       <td>log_handle</td>    <th>  R-squared (uncentered):</th>      <td>   0.785</td> \n",
       "</tr>\n",
       "<tr>\n",
       "  <th>Model:</th>                   <td>OLS</td>       <th>  Adj. R-squared (uncentered):</th> <td>   0.782</td> \n",
       "</tr>\n",
       "<tr>\n",
       "  <th>Method:</th>             <td>Least Squares</td>  <th>  F-statistic:       </th>          <td>   354.7</td> \n",
       "</tr>\n",
       "<tr>\n",
       "  <th>Date:</th>             <td>Sun, 14 Mar 2021</td> <th>  Prob (F-statistic):</th>          <td>1.75e-222</td>\n",
       "</tr>\n",
       "<tr>\n",
       "  <th>Time:</th>                 <td>12:33:36</td>     <th>  Log-Likelihood:    </th>          <td> -1512.2</td> \n",
       "</tr>\n",
       "<tr>\n",
       "  <th>No. Observations:</th>      <td>   689</td>      <th>  AIC:               </th>          <td>   3038.</td> \n",
       "</tr>\n",
       "<tr>\n",
       "  <th>Df Residuals:</th>          <td>   682</td>      <th>  BIC:               </th>          <td>   3070.</td> \n",
       "</tr>\n",
       "<tr>\n",
       "  <th>Df Model:</th>              <td>     7</td>      <th>                     </th>              <td> </td>    \n",
       "</tr>\n",
       "<tr>\n",
       "  <th>Covariance Type:</th>      <td>nonrobust</td>    <th>                     </th>              <td> </td>    \n",
       "</tr>\n",
       "</table>\n",
       "<table class=\"simpletable\">\n",
       "<tr>\n",
       "                 <td></td>                   <th>coef</th>     <th>std err</th>      <th>t</th>      <th>P>|t|</th>  <th>[0.025</th>    <th>0.975]</th>  \n",
       "</tr>\n",
       "<tr>\n",
       "  <th>bonus awarded</th>                  <td>   -0.0348</td> <td>    0.033</td> <td>   -1.057</td> <td> 0.291</td> <td>   -0.100</td> <td>    0.030</td>\n",
       "</tr>\n",
       "<tr>\n",
       "  <th>last_12months_segment_low</th>      <td>    4.3532</td> <td>    0.209</td> <td>   20.824</td> <td> 0.000</td> <td>    3.943</td> <td>    4.764</td>\n",
       "</tr>\n",
       "<tr>\n",
       "  <th>last_12months_segment_medium</th>   <td>    4.7557</td> <td>    0.311</td> <td>   15.301</td> <td> 0.000</td> <td>    4.145</td> <td>    5.366</td>\n",
       "</tr>\n",
       "<tr>\n",
       "  <th>last_12months_segment_vip</th>      <td>    6.9864</td> <td>    1.359</td> <td>    5.139</td> <td> 0.000</td> <td>    4.317</td> <td>    9.656</td>\n",
       "</tr>\n",
       "<tr>\n",
       "  <th>last_12months_segment_regnodep</th> <td>    2.7927</td> <td>    0.202</td> <td>   13.834</td> <td> 0.000</td> <td>    2.396</td> <td>    3.189</td>\n",
       "</tr>\n",
       "<tr>\n",
       "  <th>last_12months_segment_high</th>     <td>    6.2609</td> <td>    0.564</td> <td>   11.103</td> <td> 0.000</td> <td>    5.154</td> <td>    7.368</td>\n",
       "</tr>\n",
       "<tr>\n",
       "  <th>Target/CG_Target</th>               <td>    0.6441</td> <td>    0.290</td> <td>    2.221</td> <td> 0.027</td> <td>    0.075</td> <td>    1.214</td>\n",
       "</tr>\n",
       "</table>\n",
       "<table class=\"simpletable\">\n",
       "<tr>\n",
       "  <th>Omnibus:</th>       <td>46.481</td> <th>  Durbin-Watson:     </th> <td>   2.038</td>\n",
       "</tr>\n",
       "<tr>\n",
       "  <th>Prob(Omnibus):</th> <td> 0.000</td> <th>  Jarque-Bera (JB):  </th> <td>  57.550</td>\n",
       "</tr>\n",
       "<tr>\n",
       "  <th>Skew:</th>          <td>-0.600</td> <th>  Prob(JB):          </th> <td>3.19e-13</td>\n",
       "</tr>\n",
       "<tr>\n",
       "  <th>Kurtosis:</th>      <td> 3.751</td> <th>  Cond. No.          </th> <td>    147.</td>\n",
       "</tr>\n",
       "</table><br/><br/>Warnings:<br/>[1] Standard Errors assume that the covariance matrix of the errors is correctly specified."
      ],
      "text/plain": [
       "<class 'statsmodels.iolib.summary.Summary'>\n",
       "\"\"\"\n",
       "                                 OLS Regression Results                                \n",
       "=======================================================================================\n",
       "Dep. Variable:             log_handle   R-squared (uncentered):                   0.785\n",
       "Model:                            OLS   Adj. R-squared (uncentered):              0.782\n",
       "Method:                 Least Squares   F-statistic:                              354.7\n",
       "Date:                Sun, 14 Mar 2021   Prob (F-statistic):                   1.75e-222\n",
       "Time:                        12:33:36   Log-Likelihood:                         -1512.2\n",
       "No. Observations:                 689   AIC:                                      3038.\n",
       "Df Residuals:                     682   BIC:                                      3070.\n",
       "Df Model:                           7                                                  \n",
       "Covariance Type:            nonrobust                                                  \n",
       "==================================================================================================\n",
       "                                     coef    std err          t      P>|t|      [0.025      0.975]\n",
       "--------------------------------------------------------------------------------------------------\n",
       "bonus awarded                     -0.0348      0.033     -1.057      0.291      -0.100       0.030\n",
       "last_12months_segment_low          4.3532      0.209     20.824      0.000       3.943       4.764\n",
       "last_12months_segment_medium       4.7557      0.311     15.301      0.000       4.145       5.366\n",
       "last_12months_segment_vip          6.9864      1.359      5.139      0.000       4.317       9.656\n",
       "last_12months_segment_regnodep     2.7927      0.202     13.834      0.000       2.396       3.189\n",
       "last_12months_segment_high         6.2609      0.564     11.103      0.000       5.154       7.368\n",
       "Target/CG_Target                   0.6441      0.290      2.221      0.027       0.075       1.214\n",
       "==============================================================================\n",
       "Omnibus:                       46.481   Durbin-Watson:                   2.038\n",
       "Prob(Omnibus):                  0.000   Jarque-Bera (JB):               57.550\n",
       "Skew:                          -0.600   Prob(JB):                     3.19e-13\n",
       "Kurtosis:                       3.751   Cond. No.                         147.\n",
       "==============================================================================\n",
       "\n",
       "Warnings:\n",
       "[1] Standard Errors assume that the covariance matrix of the errors is correctly specified.\n",
       "\"\"\""
      ]
     },
     "execution_count": 625,
     "metadata": {},
     "output_type": "execute_result"
    }
   ],
   "source": [
    "#high level not split by subgroup regression analysis\n",
    "#we can see Target variable is statistically significant at 5% level \n",
    "#with 0.027 p-value\n",
    "est2 = sm.OLS(y, X).fit()\n",
    "est2.summary()"
   ]
  },
  {
   "cell_type": "code",
   "execution_count": 634,
   "id": "minus-convertible",
   "metadata": {},
   "outputs": [],
   "source": [
    "#creating our function to return descriptive stats regressions by subgroup\n",
    "\n",
    "def linear_regression_stats(segment = 'high'):    \n",
    "    sb3 = sb.loc[sb['last_12months_segment'] == segment]\n",
    "    sb3 = pd.get_dummies(sb3, drop_first = True)\n",
    "    sb3 = sb3.groupby('playerid')[['log_handle','bonus awarded','Target/CG_Target']].mean().reset_index()\n",
    "    sb3.drop(['playerid'], axis = 1, inplace = True)\n",
    "    X_high = sb3.loc[:, sb3.columns != 'log_handle']\n",
    "    y_high = sb3.loc[:, sb3.columns == 'log_handle']\n",
    "    est_high = sm.OLS(y_high, X_high).fit()\n",
    "    return est_high.summary()                           "
   ]
  },
  {
   "cell_type": "code",
   "execution_count": 792,
   "id": "younger-complexity",
   "metadata": {},
   "outputs": [],
   "source": [
    "#creating function to convert amount of bonus awarded to ROI\n",
    "#based on our bonus awarded beta coefficients for each subgroup \n",
    "\n",
    "def convert_to_roi(coef, bonus):\n",
    "\n",
    "    return (np.exp(coef) * bonus * 0.2 - bonus) / bonus "
   ]
  },
  {
   "cell_type": "code",
   "execution_count": 635,
   "id": "regulation-external",
   "metadata": {
    "scrolled": true
   },
   "outputs": [
    {
     "data": {
      "text/html": [
       "<table class=\"simpletable\">\n",
       "<caption>OLS Regression Results</caption>\n",
       "<tr>\n",
       "  <th>Dep. Variable:</th>       <td>log_handle</td>    <th>  R-squared (uncentered):</th>      <td>   0.626</td>\n",
       "</tr>\n",
       "<tr>\n",
       "  <th>Model:</th>                   <td>OLS</td>       <th>  Adj. R-squared (uncentered):</th> <td>   0.625</td>\n",
       "</tr>\n",
       "<tr>\n",
       "  <th>Method:</th>             <td>Least Squares</td>  <th>  F-statistic:       </th>          <td>   395.5</td>\n",
       "</tr>\n",
       "<tr>\n",
       "  <th>Date:</th>             <td>Sun, 14 Mar 2021</td> <th>  Prob (F-statistic):</th>          <td>2.38e-52</td>\n",
       "</tr>\n",
       "<tr>\n",
       "  <th>Time:</th>                 <td>12:48:43</td>     <th>  Log-Likelihood:    </th>          <td> -610.33</td>\n",
       "</tr>\n",
       "<tr>\n",
       "  <th>No. Observations:</th>      <td>   237</td>      <th>  AIC:               </th>          <td>   1223.</td>\n",
       "</tr>\n",
       "<tr>\n",
       "  <th>Df Residuals:</th>          <td>   236</td>      <th>  BIC:               </th>          <td>   1226.</td>\n",
       "</tr>\n",
       "<tr>\n",
       "  <th>Df Model:</th>              <td>     1</td>      <th>                     </th>              <td> </td>   \n",
       "</tr>\n",
       "<tr>\n",
       "  <th>Covariance Type:</th>      <td>nonrobust</td>    <th>                     </th>              <td> </td>   \n",
       "</tr>\n",
       "</table>\n",
       "<table class=\"simpletable\">\n",
       "<tr>\n",
       "          <td></td>            <th>coef</th>     <th>std err</th>      <th>t</th>      <th>P>|t|</th>  <th>[0.025</th>    <th>0.975]</th>  \n",
       "</tr>\n",
       "<tr>\n",
       "  <th>bonus awarded</th>    <td>    0.9029</td> <td>    0.045</td> <td>   19.887</td> <td> 0.000</td> <td>    0.813</td> <td>    0.992</td>\n",
       "</tr>\n",
       "<tr>\n",
       "  <th>Target/CG_Target</th> <td>    0.1806</td> <td>    0.009</td> <td>   19.887</td> <td> 0.000</td> <td>    0.163</td> <td>    0.198</td>\n",
       "</tr>\n",
       "</table>\n",
       "<table class=\"simpletable\">\n",
       "<tr>\n",
       "  <th>Omnibus:</th>       <td> 0.526</td> <th>  Durbin-Watson:     </th> <td>   1.684</td>\n",
       "</tr>\n",
       "<tr>\n",
       "  <th>Prob(Omnibus):</th> <td> 0.769</td> <th>  Jarque-Bera (JB):  </th> <td>   0.270</td>\n",
       "</tr>\n",
       "<tr>\n",
       "  <th>Skew:</th>          <td>-0.006</td> <th>  Prob(JB):          </th> <td>   0.874</td>\n",
       "</tr>\n",
       "<tr>\n",
       "  <th>Kurtosis:</th>      <td> 3.165</td> <th>  Cond. No.          </th> <td>6.83e+15</td>\n",
       "</tr>\n",
       "</table><br/><br/>Warnings:<br/>[1] Standard Errors assume that the covariance matrix of the errors is correctly specified.<br/>[2] The smallest eigenvalue is 1.01e-28. This might indicate that there are<br/>strong multicollinearity problems or that the design matrix is singular."
      ],
      "text/plain": [
       "<class 'statsmodels.iolib.summary.Summary'>\n",
       "\"\"\"\n",
       "                                 OLS Regression Results                                \n",
       "=======================================================================================\n",
       "Dep. Variable:             log_handle   R-squared (uncentered):                   0.626\n",
       "Model:                            OLS   Adj. R-squared (uncentered):              0.625\n",
       "Method:                 Least Squares   F-statistic:                              395.5\n",
       "Date:                Sun, 14 Mar 2021   Prob (F-statistic):                    2.38e-52\n",
       "Time:                        12:48:43   Log-Likelihood:                         -610.33\n",
       "No. Observations:                 237   AIC:                                      1223.\n",
       "Df Residuals:                     236   BIC:                                      1226.\n",
       "Df Model:                           1                                                  \n",
       "Covariance Type:            nonrobust                                                  \n",
       "====================================================================================\n",
       "                       coef    std err          t      P>|t|      [0.025      0.975]\n",
       "------------------------------------------------------------------------------------\n",
       "bonus awarded        0.9029      0.045     19.887      0.000       0.813       0.992\n",
       "Target/CG_Target     0.1806      0.009     19.887      0.000       0.163       0.198\n",
       "==============================================================================\n",
       "Omnibus:                        0.526   Durbin-Watson:                   1.684\n",
       "Prob(Omnibus):                  0.769   Jarque-Bera (JB):                0.270\n",
       "Skew:                          -0.006   Prob(JB):                        0.874\n",
       "Kurtosis:                       3.165   Cond. No.                     6.83e+15\n",
       "==============================================================================\n",
       "\n",
       "Warnings:\n",
       "[1] Standard Errors assume that the covariance matrix of the errors is correctly specified.\n",
       "[2] The smallest eigenvalue is 1.01e-28. This might indicate that there are\n",
       "strong multicollinearity problems or that the design matrix is singular.\n",
       "\"\"\""
      ]
     },
     "execution_count": 635,
     "metadata": {},
     "output_type": "execute_result"
    }
   ],
   "source": [
    "linear_regression_stats('low')"
   ]
  },
  {
   "cell_type": "code",
   "execution_count": 757,
   "id": "prescription-window",
   "metadata": {},
   "outputs": [
    {
     "name": "stdout",
     "output_type": "stream",
     "text": [
      "2.4667463128155167 1.1979359090819148\n",
      "95% bonus awarded conf. int: 2.254661836345618 2.696622327353013\n",
      "95% Target/CG conf. int: 1.177036689688467 1.2189623938216427\n"
     ]
    }
   ],
   "source": [
    "print(np.exp(0.9029),np.exp(0.1806))\n",
    "print('95% bonus awarded conf. int:',np.exp(0.813),np.exp(0.992))\n",
    "print('95% Target/CG conf. int:',np.exp(0.163),np.exp(0.198))"
   ]
  },
  {
   "cell_type": "code",
   "execution_count": 793,
   "id": "sunset-geography",
   "metadata": {
    "scrolled": false
   },
   "outputs": [
    {
     "data": {
      "text/plain": [
       "-0.5066507374368967"
      ]
     },
     "execution_count": 793,
     "metadata": {},
     "output_type": "execute_result"
    }
   ],
   "source": [
    "convert_to_roi(0.9029, 5)"
   ]
  },
  {
   "cell_type": "code",
   "execution_count": 637,
   "id": "regular-acrylic",
   "metadata": {},
   "outputs": [
    {
     "data": {
      "text/html": [
       "<table class=\"simpletable\">\n",
       "<caption>OLS Regression Results</caption>\n",
       "<tr>\n",
       "  <th>Dep. Variable:</th>       <td>log_handle</td>    <th>  R-squared (uncentered):</th>      <td>   0.655</td>\n",
       "</tr>\n",
       "<tr>\n",
       "  <th>Model:</th>                   <td>OLS</td>       <th>  Adj. R-squared (uncentered):</th> <td>   0.650</td>\n",
       "</tr>\n",
       "<tr>\n",
       "  <th>Method:</th>             <td>Least Squares</td>  <th>  F-statistic:       </th>          <td>   144.0</td>\n",
       "</tr>\n",
       "<tr>\n",
       "  <th>Date:</th>             <td>Sun, 14 Mar 2021</td> <th>  Prob (F-statistic):</th>          <td>3.20e-19</td>\n",
       "</tr>\n",
       "<tr>\n",
       "  <th>Time:</th>                 <td>12:49:19</td>     <th>  Log-Likelihood:    </th>          <td> -200.84</td>\n",
       "</tr>\n",
       "<tr>\n",
       "  <th>No. Observations:</th>      <td>    77</td>      <th>  AIC:               </th>          <td>   403.7</td>\n",
       "</tr>\n",
       "<tr>\n",
       "  <th>Df Residuals:</th>          <td>    76</td>      <th>  BIC:               </th>          <td>   406.0</td>\n",
       "</tr>\n",
       "<tr>\n",
       "  <th>Df Model:</th>              <td>     1</td>      <th>                     </th>              <td> </td>   \n",
       "</tr>\n",
       "<tr>\n",
       "  <th>Covariance Type:</th>      <td>nonrobust</td>    <th>                     </th>              <td> </td>   \n",
       "</tr>\n",
       "</table>\n",
       "<table class=\"simpletable\">\n",
       "<tr>\n",
       "          <td></td>            <th>coef</th>     <th>std err</th>      <th>t</th>      <th>P>|t|</th>  <th>[0.025</th>    <th>0.975]</th>  \n",
       "</tr>\n",
       "<tr>\n",
       "  <th>bonus awarded</th>    <td>    0.4912</td> <td>    0.041</td> <td>   12.002</td> <td> 0.000</td> <td>    0.410</td> <td>    0.573</td>\n",
       "</tr>\n",
       "<tr>\n",
       "  <th>Target/CG_Target</th> <td>    0.0491</td> <td>    0.004</td> <td>   12.002</td> <td> 0.000</td> <td>    0.041</td> <td>    0.057</td>\n",
       "</tr>\n",
       "</table>\n",
       "<table class=\"simpletable\">\n",
       "<tr>\n",
       "  <th>Omnibus:</th>       <td> 0.496</td> <th>  Durbin-Watson:     </th> <td>   1.773</td>\n",
       "</tr>\n",
       "<tr>\n",
       "  <th>Prob(Omnibus):</th> <td> 0.781</td> <th>  Jarque-Bera (JB):  </th> <td>   0.234</td>\n",
       "</tr>\n",
       "<tr>\n",
       "  <th>Skew:</th>          <td>-0.130</td> <th>  Prob(JB):          </th> <td>   0.889</td>\n",
       "</tr>\n",
       "<tr>\n",
       "  <th>Kurtosis:</th>      <td> 3.071</td> <th>  Cond. No.          </th> <td>3.90e+16</td>\n",
       "</tr>\n",
       "</table><br/><br/>Warnings:<br/>[1] Standard Errors assume that the covariance matrix of the errors is correctly specified.<br/>[2] The smallest eigenvalue is 4.24e-30. This might indicate that there are<br/>strong multicollinearity problems or that the design matrix is singular."
      ],
      "text/plain": [
       "<class 'statsmodels.iolib.summary.Summary'>\n",
       "\"\"\"\n",
       "                                 OLS Regression Results                                \n",
       "=======================================================================================\n",
       "Dep. Variable:             log_handle   R-squared (uncentered):                   0.655\n",
       "Model:                            OLS   Adj. R-squared (uncentered):              0.650\n",
       "Method:                 Least Squares   F-statistic:                              144.0\n",
       "Date:                Sun, 14 Mar 2021   Prob (F-statistic):                    3.20e-19\n",
       "Time:                        12:49:19   Log-Likelihood:                         -200.84\n",
       "No. Observations:                  77   AIC:                                      403.7\n",
       "Df Residuals:                      76   BIC:                                      406.0\n",
       "Df Model:                           1                                                  \n",
       "Covariance Type:            nonrobust                                                  \n",
       "====================================================================================\n",
       "                       coef    std err          t      P>|t|      [0.025      0.975]\n",
       "------------------------------------------------------------------------------------\n",
       "bonus awarded        0.4912      0.041     12.002      0.000       0.410       0.573\n",
       "Target/CG_Target     0.0491      0.004     12.002      0.000       0.041       0.057\n",
       "==============================================================================\n",
       "Omnibus:                        0.496   Durbin-Watson:                   1.773\n",
       "Prob(Omnibus):                  0.781   Jarque-Bera (JB):                0.234\n",
       "Skew:                          -0.130   Prob(JB):                        0.889\n",
       "Kurtosis:                       3.071   Cond. No.                     3.90e+16\n",
       "==============================================================================\n",
       "\n",
       "Warnings:\n",
       "[1] Standard Errors assume that the covariance matrix of the errors is correctly specified.\n",
       "[2] The smallest eigenvalue is 4.24e-30. This might indicate that there are\n",
       "strong multicollinearity problems or that the design matrix is singular.\n",
       "\"\"\""
      ]
     },
     "execution_count": 637,
     "metadata": {},
     "output_type": "execute_result"
    }
   ],
   "source": [
    "linear_regression_stats('medium')"
   ]
  },
  {
   "cell_type": "code",
   "execution_count": 749,
   "id": "naked-letter",
   "metadata": {},
   "outputs": [
    {
     "name": "stdout",
     "output_type": "stream",
     "text": [
      "1.6342761751572519 1.050325378026379\n",
      "95% bonus awarded conf. int: 1.5068177851128535 1.773579817752941\n",
      "95% Target/CG conf. int: 1.0418521055454795 1.0586558103955002\n"
     ]
    }
   ],
   "source": [
    "print(np.exp(0.4912),np.exp(0.0491))\n",
    "print('95% bonus awarded conf. int:',np.exp(0.410),np.exp(0.573))\n",
    "print('95% Target/CG conf. int:',np.exp(0.041),np.exp(0.057))"
   ]
  },
  {
   "cell_type": "code",
   "execution_count": 794,
   "id": "fatal-programmer",
   "metadata": {},
   "outputs": [
    {
     "data": {
      "text/plain": [
       "-0.6731447649685496"
      ]
     },
     "execution_count": 794,
     "metadata": {},
     "output_type": "execute_result"
    }
   ],
   "source": [
    "convert_to_roi(0.4912, 10)"
   ]
  },
  {
   "cell_type": "code",
   "execution_count": 638,
   "id": "entire-receptor",
   "metadata": {},
   "outputs": [
    {
     "data": {
      "text/html": [
       "<table class=\"simpletable\">\n",
       "<caption>OLS Regression Results</caption>\n",
       "<tr>\n",
       "  <th>Dep. Variable:</th>       <td>log_handle</td>    <th>  R-squared (uncentered):</th>      <td>   0.692</td>\n",
       "</tr>\n",
       "<tr>\n",
       "  <th>Model:</th>                   <td>OLS</td>       <th>  Adj. R-squared (uncentered):</th> <td>   0.680</td>\n",
       "</tr>\n",
       "<tr>\n",
       "  <th>Method:</th>             <td>Least Squares</td>  <th>  F-statistic:       </th>          <td>   58.47</td>\n",
       "</tr>\n",
       "<tr>\n",
       "  <th>Date:</th>             <td>Sun, 14 Mar 2021</td> <th>  Prob (F-statistic):</th>          <td>4.08e-08</td>\n",
       "</tr>\n",
       "<tr>\n",
       "  <th>Time:</th>                 <td>12:49:19</td>     <th>  Log-Likelihood:    </th>          <td> -72.993</td>\n",
       "</tr>\n",
       "<tr>\n",
       "  <th>No. Observations:</th>      <td>    27</td>      <th>  AIC:               </th>          <td>   148.0</td>\n",
       "</tr>\n",
       "<tr>\n",
       "  <th>Df Residuals:</th>          <td>    26</td>      <th>  BIC:               </th>          <td>   149.3</td>\n",
       "</tr>\n",
       "<tr>\n",
       "  <th>Df Model:</th>              <td>     1</td>      <th>                     </th>              <td> </td>   \n",
       "</tr>\n",
       "<tr>\n",
       "  <th>Covariance Type:</th>      <td>nonrobust</td>    <th>                     </th>              <td> </td>   \n",
       "</tr>\n",
       "</table>\n",
       "<table class=\"simpletable\">\n",
       "<tr>\n",
       "          <td></td>            <th>coef</th>     <th>std err</th>      <th>t</th>      <th>P>|t|</th>  <th>[0.025</th>    <th>0.975]</th>  \n",
       "</tr>\n",
       "<tr>\n",
       "  <th>bonus awarded</th>    <td>    0.3064</td> <td>    0.040</td> <td>    7.647</td> <td> 0.000</td> <td>    0.224</td> <td>    0.389</td>\n",
       "</tr>\n",
       "<tr>\n",
       "  <th>Target/CG_Target</th> <td>    0.0153</td> <td>    0.002</td> <td>    7.647</td> <td> 0.000</td> <td>    0.011</td> <td>    0.019</td>\n",
       "</tr>\n",
       "</table>\n",
       "<table class=\"simpletable\">\n",
       "<tr>\n",
       "  <th>Omnibus:</th>       <td> 1.232</td> <th>  Durbin-Watson:     </th> <td>   1.434</td>\n",
       "</tr>\n",
       "<tr>\n",
       "  <th>Prob(Omnibus):</th> <td> 0.540</td> <th>  Jarque-Bera (JB):  </th> <td>   0.291</td>\n",
       "</tr>\n",
       "<tr>\n",
       "  <th>Skew:</th>          <td>-0.069</td> <th>  Prob(JB):          </th> <td>   0.864</td>\n",
       "</tr>\n",
       "<tr>\n",
       "  <th>Kurtosis:</th>      <td> 3.490</td> <th>  Cond. No.          </th> <td>6.55e+16</td>\n",
       "</tr>\n",
       "</table><br/><br/>Warnings:<br/>[1] Standard Errors assume that the covariance matrix of the errors is correctly specified.<br/>[2] The smallest eigenvalue is 1.96e-30. This might indicate that there are<br/>strong multicollinearity problems or that the design matrix is singular."
      ],
      "text/plain": [
       "<class 'statsmodels.iolib.summary.Summary'>\n",
       "\"\"\"\n",
       "                                 OLS Regression Results                                \n",
       "=======================================================================================\n",
       "Dep. Variable:             log_handle   R-squared (uncentered):                   0.692\n",
       "Model:                            OLS   Adj. R-squared (uncentered):              0.680\n",
       "Method:                 Least Squares   F-statistic:                              58.47\n",
       "Date:                Sun, 14 Mar 2021   Prob (F-statistic):                    4.08e-08\n",
       "Time:                        12:49:19   Log-Likelihood:                         -72.993\n",
       "No. Observations:                  27   AIC:                                      148.0\n",
       "Df Residuals:                      26   BIC:                                      149.3\n",
       "Df Model:                           1                                                  \n",
       "Covariance Type:            nonrobust                                                  \n",
       "====================================================================================\n",
       "                       coef    std err          t      P>|t|      [0.025      0.975]\n",
       "------------------------------------------------------------------------------------\n",
       "bonus awarded        0.3064      0.040      7.647      0.000       0.224       0.389\n",
       "Target/CG_Target     0.0153      0.002      7.647      0.000       0.011       0.019\n",
       "==============================================================================\n",
       "Omnibus:                        1.232   Durbin-Watson:                   1.434\n",
       "Prob(Omnibus):                  0.540   Jarque-Bera (JB):                0.291\n",
       "Skew:                          -0.069   Prob(JB):                        0.864\n",
       "Kurtosis:                       3.490   Cond. No.                     6.55e+16\n",
       "==============================================================================\n",
       "\n",
       "Warnings:\n",
       "[1] Standard Errors assume that the covariance matrix of the errors is correctly specified.\n",
       "[2] The smallest eigenvalue is 1.96e-30. This might indicate that there are\n",
       "strong multicollinearity problems or that the design matrix is singular.\n",
       "\"\"\""
      ]
     },
     "execution_count": 638,
     "metadata": {},
     "output_type": "execute_result"
    }
   ],
   "source": [
    "linear_regression_stats('high')"
   ]
  },
  {
   "cell_type": "code",
   "execution_count": 748,
   "id": "reported-running",
   "metadata": {},
   "outputs": [
    {
     "name": "stdout",
     "output_type": "stream",
     "text": [
      "1.3585256081235828 1.01541764421976\n",
      "95% bonus awarded conf. int: 1.2510710194283623 1.475504551333055\n",
      "95% Target/CG conf. int: 1.0110607224447195 1.0191816486174081\n"
     ]
    }
   ],
   "source": [
    "print(np.exp(0.3064),np.exp(0.0153))\n",
    "print('95% bonus awarded conf. int:',np.exp(0.224),np.exp(0.389))\n",
    "print('95% Target/CG conf. int:',np.exp(0.011),np.exp(0.019))"
   ]
  },
  {
   "cell_type": "code",
   "execution_count": 795,
   "id": "short-advancement",
   "metadata": {},
   "outputs": [
    {
     "data": {
      "text/plain": [
       "-0.7282948783752834"
      ]
     },
     "execution_count": 795,
     "metadata": {},
     "output_type": "execute_result"
    }
   ],
   "source": [
    "convert_to_roi(0.3064, 10)"
   ]
  },
  {
   "cell_type": "code",
   "execution_count": 636,
   "id": "julian-brand",
   "metadata": {},
   "outputs": [
    {
     "name": "stderr",
     "output_type": "stream",
     "text": [
      "/Users/philippeheitzmann/opt/anaconda3/lib/python3.7/site-packages/scipy/stats/stats.py:1604: UserWarning: kurtosistest only valid for n>=20 ... continuing anyway, n=12\n",
      "  \"anyway, n=%i\" % int(n))\n"
     ]
    },
    {
     "data": {
      "text/html": [
       "<table class=\"simpletable\">\n",
       "<caption>OLS Regression Results</caption>\n",
       "<tr>\n",
       "  <th>Dep. Variable:</th>       <td>log_handle</td>    <th>  R-squared (uncentered):</th>      <td>   0.673</td>\n",
       "</tr>\n",
       "<tr>\n",
       "  <th>Model:</th>                   <td>OLS</td>       <th>  Adj. R-squared (uncentered):</th> <td>   0.643</td>\n",
       "</tr>\n",
       "<tr>\n",
       "  <th>Method:</th>             <td>Least Squares</td>  <th>  F-statistic:       </th>          <td>   22.64</td>\n",
       "</tr>\n",
       "<tr>\n",
       "  <th>Date:</th>             <td>Sun, 14 Mar 2021</td> <th>  Prob (F-statistic):</th>          <td>0.000591</td>\n",
       "</tr>\n",
       "<tr>\n",
       "  <th>Time:</th>                 <td>12:49:17</td>     <th>  Log-Likelihood:    </th>          <td> -33.099</td>\n",
       "</tr>\n",
       "<tr>\n",
       "  <th>No. Observations:</th>      <td>    12</td>      <th>  AIC:               </th>          <td>   68.20</td>\n",
       "</tr>\n",
       "<tr>\n",
       "  <th>Df Residuals:</th>          <td>    11</td>      <th>  BIC:               </th>          <td>   68.68</td>\n",
       "</tr>\n",
       "<tr>\n",
       "  <th>Df Model:</th>              <td>     1</td>      <th>                     </th>              <td> </td>   \n",
       "</tr>\n",
       "<tr>\n",
       "  <th>Covariance Type:</th>      <td>nonrobust</td>    <th>                     </th>              <td> </td>   \n",
       "</tr>\n",
       "</table>\n",
       "<table class=\"simpletable\">\n",
       "<tr>\n",
       "          <td></td>            <th>coef</th>     <th>std err</th>      <th>t</th>      <th>P>|t|</th>  <th>[0.025</th>    <th>0.975]</th>  \n",
       "</tr>\n",
       "<tr>\n",
       "  <th>bonus awarded</th>    <td>    0.1199</td> <td>    0.025</td> <td>    4.759</td> <td> 0.001</td> <td>    0.064</td> <td>    0.175</td>\n",
       "</tr>\n",
       "<tr>\n",
       "  <th>Target/CG_Target</th> <td>    0.0024</td> <td>    0.001</td> <td>    4.759</td> <td> 0.001</td> <td>    0.001</td> <td>    0.004</td>\n",
       "</tr>\n",
       "</table>\n",
       "<table class=\"simpletable\">\n",
       "<tr>\n",
       "  <th>Omnibus:</th>       <td> 2.336</td> <th>  Durbin-Watson:     </th> <td>   2.286</td>\n",
       "</tr>\n",
       "<tr>\n",
       "  <th>Prob(Omnibus):</th> <td> 0.311</td> <th>  Jarque-Bera (JB):  </th> <td>   0.835</td>\n",
       "</tr>\n",
       "<tr>\n",
       "  <th>Skew:</th>          <td>-0.640</td> <th>  Prob(JB):          </th> <td>   0.659</td>\n",
       "</tr>\n",
       "<tr>\n",
       "  <th>Kurtosis:</th>      <td> 3.181</td> <th>  Cond. No.          </th> <td>2.37e+17</td>\n",
       "</tr>\n",
       "</table><br/><br/>Warnings:<br/>[1] Standard Errors assume that the covariance matrix of the errors is correctly specified.<br/>[2] The smallest eigenvalue is 4.44e-31. This might indicate that there are<br/>strong multicollinearity problems or that the design matrix is singular."
      ],
      "text/plain": [
       "<class 'statsmodels.iolib.summary.Summary'>\n",
       "\"\"\"\n",
       "                                 OLS Regression Results                                \n",
       "=======================================================================================\n",
       "Dep. Variable:             log_handle   R-squared (uncentered):                   0.673\n",
       "Model:                            OLS   Adj. R-squared (uncentered):              0.643\n",
       "Method:                 Least Squares   F-statistic:                              22.64\n",
       "Date:                Sun, 14 Mar 2021   Prob (F-statistic):                    0.000591\n",
       "Time:                        12:49:17   Log-Likelihood:                         -33.099\n",
       "No. Observations:                  12   AIC:                                      68.20\n",
       "Df Residuals:                      11   BIC:                                      68.68\n",
       "Df Model:                           1                                                  \n",
       "Covariance Type:            nonrobust                                                  \n",
       "====================================================================================\n",
       "                       coef    std err          t      P>|t|      [0.025      0.975]\n",
       "------------------------------------------------------------------------------------\n",
       "bonus awarded        0.1199      0.025      4.759      0.001       0.064       0.175\n",
       "Target/CG_Target     0.0024      0.001      4.759      0.001       0.001       0.004\n",
       "==============================================================================\n",
       "Omnibus:                        2.336   Durbin-Watson:                   2.286\n",
       "Prob(Omnibus):                  0.311   Jarque-Bera (JB):                0.835\n",
       "Skew:                          -0.640   Prob(JB):                        0.659\n",
       "Kurtosis:                       3.181   Cond. No.                     2.37e+17\n",
       "==============================================================================\n",
       "\n",
       "Warnings:\n",
       "[1] Standard Errors assume that the covariance matrix of the errors is correctly specified.\n",
       "[2] The smallest eigenvalue is 4.44e-31. This might indicate that there are\n",
       "strong multicollinearity problems or that the design matrix is singular.\n",
       "\"\"\""
      ]
     },
     "execution_count": 636,
     "metadata": {},
     "output_type": "execute_result"
    }
   ],
   "source": [
    "linear_regression_stats('vip')"
   ]
  },
  {
   "cell_type": "code",
   "execution_count": 751,
   "id": "illegal-helping",
   "metadata": {},
   "outputs": [
    {
     "name": "stdout",
     "output_type": "stream",
     "text": [
      "1.127384107531514 1.002402882305383\n",
      "95% bonus awarded conf. int: 1.0660923987615052 1.191246216612358\n",
      "95% Target/CG conf. int: 1.0010005001667084 1.004008010677342\n"
     ]
    }
   ],
   "source": [
    "print(np.exp(0.1199),np.exp(0.0024))\n",
    "print('95% bonus awarded conf. int:',np.exp(0.064),np.exp(0.175))\n",
    "print('95% Target/CG conf. int:',np.exp(0.001),np.exp(0.004))"
   ]
  },
  {
   "cell_type": "code",
   "execution_count": 796,
   "id": "ideal-dover",
   "metadata": {},
   "outputs": [
    {
     "data": {
      "text/plain": [
       "-0.7745231784936972"
      ]
     },
     "execution_count": 796,
     "metadata": {},
     "output_type": "execute_result"
    }
   ],
   "source": [
    "convert_to_roi(0.1199, 50)"
   ]
  },
  {
   "cell_type": "code",
   "execution_count": 639,
   "id": "twenty-conservation",
   "metadata": {},
   "outputs": [
    {
     "data": {
      "text/html": [
       "<table class=\"simpletable\">\n",
       "<caption>OLS Regression Results</caption>\n",
       "<tr>\n",
       "  <th>Dep. Variable:</th>       <td>log_handle</td>    <th>  R-squared (uncentered):</th>      <td>   0.595</td>\n",
       "</tr>\n",
       "<tr>\n",
       "  <th>Model:</th>                   <td>OLS</td>       <th>  Adj. R-squared (uncentered):</th> <td>   0.594</td>\n",
       "</tr>\n",
       "<tr>\n",
       "  <th>Method:</th>             <td>Least Squares</td>  <th>  F-statistic:       </th>          <td>   457.2</td>\n",
       "</tr>\n",
       "<tr>\n",
       "  <th>Date:</th>             <td>Sun, 14 Mar 2021</td> <th>  Prob (F-statistic):</th>          <td>4.97e-63</td>\n",
       "</tr>\n",
       "<tr>\n",
       "  <th>Time:</th>                 <td>12:49:48</td>     <th>  Log-Likelihood:    </th>          <td> -703.57</td>\n",
       "</tr>\n",
       "<tr>\n",
       "  <th>No. Observations:</th>      <td>   312</td>      <th>  AIC:               </th>          <td>   1409.</td>\n",
       "</tr>\n",
       "<tr>\n",
       "  <th>Df Residuals:</th>          <td>   311</td>      <th>  BIC:               </th>          <td>   1413.</td>\n",
       "</tr>\n",
       "<tr>\n",
       "  <th>Df Model:</th>              <td>     1</td>      <th>                     </th>              <td> </td>   \n",
       "</tr>\n",
       "<tr>\n",
       "  <th>Covariance Type:</th>      <td>nonrobust</td>    <th>                     </th>              <td> </td>   \n",
       "</tr>\n",
       "</table>\n",
       "<table class=\"simpletable\">\n",
       "<tr>\n",
       "          <td></td>            <th>coef</th>     <th>std err</th>      <th>t</th>      <th>P>|t|</th>  <th>[0.025</th>    <th>0.975]</th>  \n",
       "</tr>\n",
       "<tr>\n",
       "  <th>bonus awarded</th>    <td>    0.6022</td> <td>    0.028</td> <td>   21.383</td> <td> 0.000</td> <td>    0.547</td> <td>    0.658</td>\n",
       "</tr>\n",
       "<tr>\n",
       "  <th>Target/CG_Target</th> <td>    0.1204</td> <td>    0.006</td> <td>   21.383</td> <td> 0.000</td> <td>    0.109</td> <td>    0.132</td>\n",
       "</tr>\n",
       "</table>\n",
       "<table class=\"simpletable\">\n",
       "<tr>\n",
       "  <th>Omnibus:</th>       <td> 0.787</td> <th>  Durbin-Watson:     </th> <td>   1.882</td>\n",
       "</tr>\n",
       "<tr>\n",
       "  <th>Prob(Omnibus):</th> <td> 0.675</td> <th>  Jarque-Bera (JB):  </th> <td>   0.901</td>\n",
       "</tr>\n",
       "<tr>\n",
       "  <th>Skew:</th>          <td> 0.083</td> <th>  Prob(JB):          </th> <td>   0.637</td>\n",
       "</tr>\n",
       "<tr>\n",
       "  <th>Kurtosis:</th>      <td> 2.796</td> <th>  Cond. No.          </th> <td>8.79e+15</td>\n",
       "</tr>\n",
       "</table><br/><br/>Warnings:<br/>[1] Standard Errors assume that the covariance matrix of the errors is correctly specified.<br/>[2] The smallest eigenvalue is 8.38e-29. This might indicate that there are<br/>strong multicollinearity problems or that the design matrix is singular."
      ],
      "text/plain": [
       "<class 'statsmodels.iolib.summary.Summary'>\n",
       "\"\"\"\n",
       "                                 OLS Regression Results                                \n",
       "=======================================================================================\n",
       "Dep. Variable:             log_handle   R-squared (uncentered):                   0.595\n",
       "Model:                            OLS   Adj. R-squared (uncentered):              0.594\n",
       "Method:                 Least Squares   F-statistic:                              457.2\n",
       "Date:                Sun, 14 Mar 2021   Prob (F-statistic):                    4.97e-63\n",
       "Time:                        12:49:48   Log-Likelihood:                         -703.57\n",
       "No. Observations:                 312   AIC:                                      1409.\n",
       "Df Residuals:                     311   BIC:                                      1413.\n",
       "Df Model:                           1                                                  \n",
       "Covariance Type:            nonrobust                                                  \n",
       "====================================================================================\n",
       "                       coef    std err          t      P>|t|      [0.025      0.975]\n",
       "------------------------------------------------------------------------------------\n",
       "bonus awarded        0.6022      0.028     21.383      0.000       0.547       0.658\n",
       "Target/CG_Target     0.1204      0.006     21.383      0.000       0.109       0.132\n",
       "==============================================================================\n",
       "Omnibus:                        0.787   Durbin-Watson:                   1.882\n",
       "Prob(Omnibus):                  0.675   Jarque-Bera (JB):                0.901\n",
       "Skew:                           0.083   Prob(JB):                        0.637\n",
       "Kurtosis:                       2.796   Cond. No.                     8.79e+15\n",
       "==============================================================================\n",
       "\n",
       "Warnings:\n",
       "[1] Standard Errors assume that the covariance matrix of the errors is correctly specified.\n",
       "[2] The smallest eigenvalue is 8.38e-29. This might indicate that there are\n",
       "strong multicollinearity problems or that the design matrix is singular.\n",
       "\"\"\""
      ]
     },
     "execution_count": 639,
     "metadata": {},
     "output_type": "execute_result"
    }
   ],
   "source": [
    "linear_regression_stats('regnodep')"
   ]
  },
  {
   "cell_type": "code",
   "execution_count": 660,
   "id": "human-geography",
   "metadata": {},
   "outputs": [
    {
     "data": {
      "text/html": [
       "<div>\n",
       "<style scoped>\n",
       "    .dataframe tbody tr th:only-of-type {\n",
       "        vertical-align: middle;\n",
       "    }\n",
       "\n",
       "    .dataframe tbody tr th {\n",
       "        vertical-align: top;\n",
       "    }\n",
       "\n",
       "    .dataframe thead th {\n",
       "        text-align: right;\n",
       "    }\n",
       "</style>\n",
       "<table border=\"1\" class=\"dataframe\">\n",
       "  <thead>\n",
       "    <tr style=\"text-align: right;\">\n",
       "      <th></th>\n",
       "      <th>bonus awarded</th>\n",
       "    </tr>\n",
       "    <tr>\n",
       "      <th>last_12months_segment</th>\n",
       "      <th></th>\n",
       "    </tr>\n",
       "  </thead>\n",
       "  <tbody>\n",
       "    <tr>\n",
       "      <th>high</th>\n",
       "      <td>15.924609</td>\n",
       "    </tr>\n",
       "    <tr>\n",
       "      <th>low</th>\n",
       "      <td>3.877917</td>\n",
       "    </tr>\n",
       "    <tr>\n",
       "      <th>medium</th>\n",
       "      <td>8.208603</td>\n",
       "    </tr>\n",
       "    <tr>\n",
       "      <th>no bet</th>\n",
       "      <td>3.518519</td>\n",
       "    </tr>\n",
       "    <tr>\n",
       "      <th>regnodep</th>\n",
       "      <td>4.009901</td>\n",
       "    </tr>\n",
       "    <tr>\n",
       "      <th>vip</th>\n",
       "      <td>43.948035</td>\n",
       "    </tr>\n",
       "  </tbody>\n",
       "</table>\n",
       "</div>"
      ],
      "text/plain": [
       "                       bonus awarded\n",
       "last_12months_segment               \n",
       "high                       15.924609\n",
       "low                         3.877917\n",
       "medium                      8.208603\n",
       "no bet                      3.518519\n",
       "regnodep                    4.009901\n",
       "vip                        43.948035"
      ]
     },
     "execution_count": 660,
     "metadata": {},
     "output_type": "execute_result"
    }
   ],
   "source": [
    "sb.groupby('last_12months_segment')[['bonus awarded']].mean()"
   ]
  },
  {
   "cell_type": "code",
   "execution_count": 747,
   "id": "headed-cuisine",
   "metadata": {},
   "outputs": [
    {
     "name": "stdout",
     "output_type": "stream",
     "text": [
      "1.8261318745142978 1.1279479405317834\n",
      "95% bonus awarded conf. int: 1.7280610506585812 1.9309266167394625\n",
      "95% Target/CG conf. int: 1.1151623503414478 1.141108319267235\n"
     ]
    }
   ],
   "source": [
    "print(np.exp(0.6022),np.exp(0.1204))\n",
    "print('95% bonus awarded conf. int:',np.exp(0.547),np.exp(0.658))\n",
    "print('95% Target/CG conf. int:',np.exp(0.109),np.exp(0.132))"
   ]
  },
  {
   "cell_type": "code",
   "execution_count": 797,
   "id": "streaming-anniversary",
   "metadata": {},
   "outputs": [
    {
     "data": {
      "text/plain": [
       "-0.6347736250971404"
      ]
     },
     "execution_count": 797,
     "metadata": {},
     "output_type": "execute_result"
    }
   ],
   "source": [
    "convert_to_roi(0.6022, 5)"
   ]
  },
  {
   "cell_type": "code",
   "execution_count": 640,
   "id": "valued-companion",
   "metadata": {},
   "outputs": [
    {
     "data": {
      "text/html": [
       "<table class=\"simpletable\">\n",
       "<caption>OLS Regression Results</caption>\n",
       "<tr>\n",
       "  <th>Dep. Variable:</th>       <td>log_handle</td>    <th>  R-squared (uncentered):</th>      <td>   0.557</td>\n",
       "</tr>\n",
       "<tr>\n",
       "  <th>Model:</th>                   <td>OLS</td>       <th>  Adj. R-squared (uncentered):</th> <td>   0.538</td>\n",
       "</tr>\n",
       "<tr>\n",
       "  <th>Method:</th>             <td>Least Squares</td>  <th>  F-statistic:       </th>          <td>   28.94</td>\n",
       "</tr>\n",
       "<tr>\n",
       "  <th>Date:</th>             <td>Sun, 14 Mar 2021</td> <th>  Prob (F-statistic):</th>          <td>1.83e-05</td>\n",
       "</tr>\n",
       "<tr>\n",
       "  <th>Time:</th>                 <td>12:50:00</td>     <th>  Log-Likelihood:    </th>          <td> -60.603</td>\n",
       "</tr>\n",
       "<tr>\n",
       "  <th>No. Observations:</th>      <td>    24</td>      <th>  AIC:               </th>          <td>   123.2</td>\n",
       "</tr>\n",
       "<tr>\n",
       "  <th>Df Residuals:</th>          <td>    23</td>      <th>  BIC:               </th>          <td>   124.4</td>\n",
       "</tr>\n",
       "<tr>\n",
       "  <th>Df Model:</th>              <td>     1</td>      <th>                     </th>              <td> </td>   \n",
       "</tr>\n",
       "<tr>\n",
       "  <th>Covariance Type:</th>      <td>nonrobust</td>    <th>                     </th>              <td> </td>   \n",
       "</tr>\n",
       "</table>\n",
       "<table class=\"simpletable\">\n",
       "<tr>\n",
       "          <td></td>            <th>coef</th>     <th>std err</th>      <th>t</th>      <th>P>|t|</th>  <th>[0.025</th>    <th>0.975]</th>  \n",
       "</tr>\n",
       "<tr>\n",
       "  <th>bonus awarded</th>    <td>    0.7529</td> <td>    0.140</td> <td>    5.379</td> <td> 0.000</td> <td>    0.463</td> <td>    1.042</td>\n",
       "</tr>\n",
       "<tr>\n",
       "  <th>Target/CG_Target</th> <td>    0.1506</td> <td>    0.028</td> <td>    5.379</td> <td> 0.000</td> <td>    0.093</td> <td>    0.208</td>\n",
       "</tr>\n",
       "</table>\n",
       "<table class=\"simpletable\">\n",
       "<tr>\n",
       "  <th>Omnibus:</th>       <td> 0.055</td> <th>  Durbin-Watson:     </th> <td>   1.717</td>\n",
       "</tr>\n",
       "<tr>\n",
       "  <th>Prob(Omnibus):</th> <td> 0.973</td> <th>  Jarque-Bera (JB):  </th> <td>   0.183</td>\n",
       "</tr>\n",
       "<tr>\n",
       "  <th>Skew:</th>          <td>-0.097</td> <th>  Prob(JB):          </th> <td>   0.913</td>\n",
       "</tr>\n",
       "<tr>\n",
       "  <th>Kurtosis:</th>      <td> 2.619</td> <th>  Cond. No.          </th> <td>5.76e+16</td>\n",
       "</tr>\n",
       "</table><br/><br/>Warnings:<br/>[1] Standard Errors assume that the covariance matrix of the errors is correctly specified.<br/>[2] The smallest eigenvalue is 1.41e-31. This might indicate that there are<br/>strong multicollinearity problems or that the design matrix is singular."
      ],
      "text/plain": [
       "<class 'statsmodels.iolib.summary.Summary'>\n",
       "\"\"\"\n",
       "                                 OLS Regression Results                                \n",
       "=======================================================================================\n",
       "Dep. Variable:             log_handle   R-squared (uncentered):                   0.557\n",
       "Model:                            OLS   Adj. R-squared (uncentered):              0.538\n",
       "Method:                 Least Squares   F-statistic:                              28.94\n",
       "Date:                Sun, 14 Mar 2021   Prob (F-statistic):                    1.83e-05\n",
       "Time:                        12:50:00   Log-Likelihood:                         -60.603\n",
       "No. Observations:                  24   AIC:                                      123.2\n",
       "Df Residuals:                      23   BIC:                                      124.4\n",
       "Df Model:                           1                                                  \n",
       "Covariance Type:            nonrobust                                                  \n",
       "====================================================================================\n",
       "                       coef    std err          t      P>|t|      [0.025      0.975]\n",
       "------------------------------------------------------------------------------------\n",
       "bonus awarded        0.7529      0.140      5.379      0.000       0.463       1.042\n",
       "Target/CG_Target     0.1506      0.028      5.379      0.000       0.093       0.208\n",
       "==============================================================================\n",
       "Omnibus:                        0.055   Durbin-Watson:                   1.717\n",
       "Prob(Omnibus):                  0.973   Jarque-Bera (JB):                0.183\n",
       "Skew:                          -0.097   Prob(JB):                        0.913\n",
       "Kurtosis:                       2.619   Cond. No.                     5.76e+16\n",
       "==============================================================================\n",
       "\n",
       "Warnings:\n",
       "[1] Standard Errors assume that the covariance matrix of the errors is correctly specified.\n",
       "[2] The smallest eigenvalue is 1.41e-31. This might indicate that there are\n",
       "strong multicollinearity problems or that the design matrix is singular.\n",
       "\"\"\""
      ]
     },
     "execution_count": 640,
     "metadata": {},
     "output_type": "execute_result"
    }
   ],
   "source": [
    "linear_regression_stats('no bet')"
   ]
  },
  {
   "cell_type": "code",
   "execution_count": 746,
   "id": "preceding-adoption",
   "metadata": {},
   "outputs": [
    {
     "name": "stdout",
     "output_type": "stream",
     "text": [
      "2.123148227257416 1.162531552445916\n",
      "95% bonus awarded conf. int: 1.58883334241608 2.8348811105884675\n",
      "95% Target/CG conf. int: 1.097461735268082 1.2312131695488677\n"
     ]
    }
   ],
   "source": [
    "print(np.exp(0.7529),np.exp(0.1506))\n",
    "print('95% bonus awarded conf. int:',np.exp(0.463),np.exp(1.042))\n",
    "print('95% Target/CG conf. int:',np.exp(0.093),np.exp(0.208))"
   ]
  },
  {
   "cell_type": "code",
   "execution_count": 798,
   "id": "affected-today",
   "metadata": {},
   "outputs": [
    {
     "data": {
      "text/plain": [
       "-0.5753703545485167"
      ]
     },
     "execution_count": 798,
     "metadata": {},
     "output_type": "execute_result"
    }
   ],
   "source": [
    "convert_to_roi(0.7529, 5)"
   ]
  }
 ],
 "metadata": {
  "kernelspec": {
   "display_name": "Python 3",
   "language": "python",
   "name": "python3"
  },
  "language_info": {
   "codemirror_mode": {
    "name": "ipython",
    "version": 3
   },
   "file_extension": ".py",
   "mimetype": "text/x-python",
   "name": "python",
   "nbconvert_exporter": "python",
   "pygments_lexer": "ipython3",
   "version": "3.7.7"
  }
 },
 "nbformat": 4,
 "nbformat_minor": 5
}
